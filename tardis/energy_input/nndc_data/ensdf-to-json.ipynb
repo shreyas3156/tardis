{
 "cells": [
  {
   "cell_type": "markdown",
   "id": "963b3f71",
   "metadata": {},
   "source": [
    "# Import and Store NNDC Deposition Data - First Objective"
   ]
  },
  {
   "cell_type": "code",
   "execution_count": 1,
   "id": "0ac01a60",
   "metadata": {},
   "outputs": [],
   "source": [
    "import requests\n",
    "import json\n",
    "from bs4 import BeautifulSoup\n",
    "import time"
   ]
  },
  {
   "cell_type": "markdown",
   "id": "6106883d",
   "metadata": {},
   "source": [
    "### Setup\n",
    "\n",
    "The [radlist](https://www.nndc.bnl.gov/radlist/radlist2.jsp) API that parses the ENSDF Data needs the latter as its payload. To the user, merely knowing the nuclide and decay radiation parameters should be enough, as on [Decay Radiation Search](https://www.nndc.bnl.gov/nudat3/indx_dec.jsp), instead of copying values from one place to another.\n",
    "\n",
    "On searching for the decay data of any nuclide on the webpage above, we get another page that holds the link to ENSDF data.\n",
    "\n",
    "Therefore, we first parse this HTML response to fetch the `href` link to ENSDF Data using `BeautifulSoup`."
   ]
  },
  {
   "cell_type": "markdown",
   "id": "76233d3a",
   "metadata": {},
   "source": [
    "### Fetch the ENSDF Data Download Link"
   ]
  },
  {
   "cell_type": "markdown",
   "id": "3235da78",
   "metadata": {},
   "source": [
    "The payload for the API has been retrieved by inspecting the 'Network Activity' when sending a POST request to the URL."
   ]
  },
  {
   "cell_type": "code",
   "execution_count": 2,
   "id": "5687e99b",
   "metadata": {},
   "outputs": [],
   "source": [
    "def get_ensdf_link(nuclide):\n",
    "\n",
    "    url = \"https://www.nndc.bnl.gov/nudat3/dec_searchi.jsp\"\n",
    "    # default payload for the decay-search API\n",
    "    data = {\n",
    "        \"spnuc\": \"name\",\n",
    "        \"nuc\": nuclide,\n",
    "        \"z\": \"\",\n",
    "        \"a\": \"\",\n",
    "        \"n\": \"\",\n",
    "        \"zmin\": \"\",\n",
    "        \"zmax\": \"\",\n",
    "        \"amin\": \"\",\n",
    "        \"amax\": \"\",\n",
    "        \"nmin\": \"\",\n",
    "        \"nmax\": \"\",\n",
    "        \"evenz\": \"any\",\n",
    "        \"evena\": \"any\",\n",
    "        \"evenn\": \"any\",\n",
    "        \"tled\": \"disabled\",\n",
    "        \"tlmin\": 0,\n",
    "        \"utlow\": \"FS\",\n",
    "        \"tlmax\": 1E10,\n",
    "        \"utupp\": \"GY\",\n",
    "        \"dmed\": \"disabled\",\n",
    "        \"dmn\": \"ANY\",\n",
    "        \"rted\": \"disabled\",\n",
    "        \"rtn\": \"ANY\",\n",
    "        \"reed\": \"disabled\",\n",
    "        \"remin\": 0,\n",
    "        \"remax\": 10000,\n",
    "        \"ried\": \"disabled\",\n",
    "        \"rimin\": 0,\n",
    "        \"rimax\": 200,\n",
    "        \"ord\": \"zate\",\n",
    "        \"out\": \"wp\",\n",
    "        \"unc\": \"nds\",\n",
    "        \"sub\": \"Search\"\n",
    "    }\n",
    "\n",
    "    result = []\n",
    "    \n",
    "    #Send POST request\n",
    "    response = requests.post(url, data=data)\n",
    "\n",
    "    result.append(response.status_code)\n",
    "\n",
    "    if response.status_code == 200:\n",
    "        # Convert the response to string\n",
    "        html_text = response.text\n",
    "\n",
    "        # parse the HTML string through Beautiful Soup\n",
    "        soup = BeautifulSoup(html_text, 'html.parser')\n",
    "\n",
    "        links = soup.find_all('a')\n",
    "\n",
    "        # The SECOND hyperlink on the webpage is ENSDF Download Link\n",
    "        result.append(links[1].get('href'))\n",
    "    else:\n",
    "        result.append(response.reason)\n",
    "\n",
    "    return result"
   ]
  },
  {
   "cell_type": "markdown",
   "id": "d614061c",
   "metadata": {},
   "source": [
    "### Fetch the ENSDF data with the link retrieved above through a GET request"
   ]
  },
  {
   "cell_type": "code",
   "execution_count": 3,
   "id": "5386e318",
   "metadata": {},
   "outputs": [],
   "source": [
    "def get_ensdf_data_from_link(nuclide):\n",
    "    \n",
    "    decay_link = get_ensdf_link(nuclide)\n",
    "    if(decay_link[0] == 200):\n",
    "        ensdf_link = \"https://www.nndc.bnl.gov/nudat3/\" + decay_link[1]\n",
    "        \n",
    "        response = requests.get(ensdf_link)\n",
    "        \n",
    "        soup = BeautifulSoup(response.text,'html.parser')\n",
    "        ensdf_data = soup.find('pre').text\n",
    "        \n",
    "        return ensdf_data\n",
    "    \n",
    "    else:\n",
    "        print (f\"{decay_link[1]}. Error Code: {decay_link[0]}\")"
   ]
  },
  {
   "cell_type": "markdown",
   "id": "6df1a858",
   "metadata": {},
   "source": [
    "### Convert and Write to a JSON file after a POST request to 'radlist'"
   ]
  },
  {
   "cell_type": "code",
   "execution_count": 6,
   "id": "3bdf7a44",
   "metadata": {},
   "outputs": [],
   "source": [
    "def get_json_from_ensdf(nuclide):\n",
    "\n",
    "    ensdf_data = get_ensdf_data_from_link(nuclide)\n",
    "    \n",
    "    #Preparing the data to be parsed by 'radlist' as EXACTLY one leading whitespace is allowed.\n",
    "    ensdf_data = \" \" + ensdf_data.strip()\n",
    "    \n",
    "    # Set the URL and data to send\n",
    "    url = \"https://www.nndc.bnl.gov/radlist/radlist2.jsp\"\n",
    "    data = {\n",
    "        \"mydata\": ensdf_data,\n",
    "        \"format\": \"json\",\n",
    "        \"submit\": \"Submit\"\n",
    "    }\n",
    " \n",
    "    # Send the POST request. 'requests' converts data into the accepted Content-Type: x-www-form-urlencoded.\n",
    "    response = requests.post(url, data=data)\n",
    "    \n",
    "    if response.status_code == 200:\n",
    "        # Save the JSON response to a file\n",
    "        print (response.json())\n",
    "        \n",
    "        #Write to file and Download\n",
    "        with open(f'{nuclide}_json_data.json', 'w') as f:\n",
    "            json.dump(response.json(), f)\n",
    "    else:\n",
    "        print(f\"{response.reason}. Error Code:{response.status_code}\")"
   ]
  },
  {
   "cell_type": "markdown",
   "id": "e396b463",
   "metadata": {},
   "source": [
    "### Enter the nuclide"
   ]
  },
  {
   "cell_type": "code",
   "execution_count": 7,
   "id": "f0f7537c",
   "metadata": {
    "scrolled": true
   },
   "outputs": [
    {
     "name": "stdout",
     "output_type": "stream",
     "text": [
      "{'parent': {'a': '56', 'decayMode': {'name': 'EC', 'uncertainty': '', 'value': '100'}, 'level': {'jpis': '4+', 'energy': {'uncertainty': '', 'value': '0.0'}}, 'z': '27', 'halflife': {'inSeconds': '6673190.4', 'units': 'D', 'uncertainty': '26', 'value': '77.236'}, 'qValue': {'uncertainty': '20', 'value': '4566.0'}, 'n': '29', 'element': 'Co'}, 'radiation': {'betaPlusAV': [{'dose': '0.121', 'radIntensityUncertainty': '14', 'radIntensity': '19.7', 'energyUncertainty': '6', 'subType': '', 'epEnergyUncertainty': '', 'type': 'bp av', 'energy': '6.1E+2', 'epEnergy': '', 'doseUncertainty': '15'}], 'electron': [{'dose': '7.44E-4', 'radIntensityUncertainty': '6', 'radIntensity': '111.0', 'energyUncertainty': '', 'subType': 'Auger L', 'epEnergyUncertainty': '', 'type': 'e', 'energy': '0.67', 'epEnergy': '', 'doseUncertainty': '4'}, {'dose': '0.002605', 'radIntensityUncertainty': '4', 'radIntensity': '46.3', 'energyUncertainty': '', 'subType': 'Auger K', 'epEnergyUncertainty': '', 'type': 'e', 'energy': '5.62', 'epEnergy': '', 'doseUncertainty': '22'}, {'dose': '3.5E-7', 'radIntensityUncertainty': '11', 'radIntensity': '4.8E-5', 'energyUncertainty': '4', 'subType': 'CE K', 'epEnergyUncertainty': '', 'type': 'e', 'energy': '726.402', 'epEnergy': '', 'doseUncertainty': '8'}, {'dose': '6.6E-7', 'radIntensityUncertainty': '9', 'radIntensity': '8.4E-5', 'energyUncertainty': '5', 'subType': 'CE K', 'epEnergyUncertainty': '', 'type': 'e', 'energy': '780.631', 'epEnergy': '', 'doseUncertainty': '7'}, {'dose': '2.181799E-4', 'radIntensityUncertainty': '', 'radIntensity': '0.026', 'energyUncertainty': '22', 'subType': 'CE K', 'epEnergyUncertainty': '', 'type': 'e', 'energy': '839.6580', 'epEnergy': '', 'doseUncertainty': ''}, {'dose': '1.92E-6', 'radIntensityUncertainty': '7', 'radIntensity': '1.98E-4', 'energyUncertainty': '5', 'subType': 'CE K', 'epEnergyUncertainty': '', 'type': 'e', 'energy': '970.260', 'epEnergy': '', 'doseUncertainty': '7'}, {'dose': '1.93E-5', 'radIntensityUncertainty': '14', 'radIntensity': '0.00187', 'energyUncertainty': '4', 'subType': 'CE K', 'epEnergyUncertainty': '', 'type': 'e', 'energy': '1030.731', 'epEnergy': '', 'doseUncertainty': '14'}, {'dose': '2.5E-6', 'radIntensityUncertainty': '5', 'radIntensity': '2.1E-4', 'energyUncertainty': '4', 'subType': 'CE K', 'epEnergyUncertainty': '', 'type': 'e', 'energy': '1167.989', 'epEnergy': '', 'doseUncertainty': '6'}, {'dose': '8.26E-5', 'radIntensityUncertainty': '13', 'radIntensity': '0.00671', 'energyUncertainty': '3', 'subType': 'CE K', 'epEnergyUncertainty': '', 'type': 'e', 'energy': '1231.176', 'epEnergy': '', 'doseUncertainty': '16'}, {'dose': '4.40E-6', 'radIntensityUncertainty': '9', 'radIntensity': '3.26E-4', 'energyUncertainty': '4', 'subType': 'CE K', 'epEnergyUncertainty': '', 'type': 'e', 'energy': '1353.100', 'epEnergy': '', 'doseUncertainty': '12'}, {'dose': '1.28E-5', 'radIntensityUncertainty': '3', 'radIntensity': '7.3E-4', 'energyUncertainty': '4', 'subType': 'CE K', 'epEnergyUncertainty': '', 'type': 'e', 'energy': '1764.245', 'epEnergy': '', 'doseUncertainty': '5'}, {'dose': '5.4E-7', 'radIntensityUncertainty': '14', 'radIntensity': '2.76E-5', 'energyUncertainty': '8', 'subType': 'CE K', 'epEnergyUncertainty': '', 'type': 'e', 'energy': '1956.629', 'epEnergy': '', 'doseUncertainty': '3'}, {'dose': '2.36E-6', 'radIntensityUncertainty': '6', 'radIntensity': '1.18E-4', 'energyUncertainty': '5', 'subType': 'CE K', 'epEnergyUncertainty': '', 'type': 'e', 'energy': '2008.103', 'epEnergy': '', 'doseUncertainty': '12'}, {'dose': '5.86E-6', 'radIntensityUncertainty': '10', 'radIntensity': '2.89E-4', 'energyUncertainty': '5', 'subType': 'CE K', 'epEnergyUncertainty': '', 'type': 'e', 'energy': '2027.679', 'epEnergy': '', 'doseUncertainty': '21'}, {'dose': '1.14E-5', 'radIntensityUncertainty': '17', 'radIntensity': '4.41E-4', 'energyUncertainty': '4', 'subType': 'CE K', 'epEnergyUncertainty': '', 'type': 'e', 'energy': '2591.388', 'epEnergy': '', 'doseUncertainty': '4'}, {'dose': '8.1E-7', 'radIntensityUncertainty': '7', 'radIntensity': '2.7E-5', 'energyUncertainty': '4', 'subType': 'CE K', 'epEnergyUncertainty': '', 'type': 'e', 'energy': '3002.533', 'epEnergy': '', 'doseUncertainty': '22'}, {'dose': '2.15E-6', 'radIntensityUncertainty': '3', 'radIntensity': '6.7E-5', 'energyUncertainty': '8', 'subType': 'CE K', 'epEnergyUncertainty': '', 'type': 'e', 'energy': '3194.917', 'epEnergy': '', 'doseUncertainty': '10'}, {'dose': '5.02E-6', 'radIntensityUncertainty': '7', 'radIntensity': '1.55E-4', 'energyUncertainty': '4', 'subType': 'CE K', 'epEnergyUncertainty': '', 'type': 'e', 'energy': '3246.391', 'epEnergy': '', 'doseUncertainty': '23'}, {'dose': '1.17E-6', 'radIntensityUncertainty': '3', 'radIntensity': '3.6E-5', 'energyUncertainty': '4', 'subType': 'CE K', 'epEnergyUncertainty': '', 'type': 'e', 'energy': '3265.967', 'epEnergy': '', 'doseUncertainty': '10'}, {'dose': '3.7E-7', 'radIntensityUncertainty': '19', 'radIntensity': '1.07E-5', 'energyUncertainty': '4', 'subType': 'CE K', 'epEnergyUncertainty': '', 'type': 'e', 'energy': '3444.120', 'epEnergy': '', 'doseUncertainty': '7'}], 'betaPlus': [{'dose': '3.7E-6', 'radIntensityUncertainty': '8', 'radIntensity': '0.0082', 'energyUncertainty': '9', 'subType': '', 'epEnergyUncertainty': '20', 'type': 'bp', 'energy': '45.3', 'epEnergy': '98.7', 'doseUncertainty': '4'}, {'dose': '4.6E-8', 'radIntensityUncertainty': '20', 'radIntensity': '6.0E-5', 'energyUncertainty': '9', 'subType': '', 'epEnergyUncertainty': '20', 'type': 'bp', 'energy': '76.7', 'epEnergy': '174.1', 'doseUncertainty': '15'}, {'dose': '0.00186', 'radIntensityUncertainty': '20', 'radIntensity': '1.041', 'energyUncertainty': '9', 'subType': '', 'epEnergyUncertainty': '20', 'type': 'bp', 'energy': '178.7', 'epEnergy': '421.0', 'doseUncertainty': '4'}, {'dose': '1.7E-5', 'radIntensityUncertainty': '13', 'radIntensity': '0.0067', 'energyUncertainty': '9', 'subType': '', 'epEnergyUncertainty': '20', 'type': 'bp', 'energy': '247.1', 'epEnergy': '584.0', 'doseUncertainty': '3'}, {'dose': '0.116', 'radIntensityUncertainty': '14', 'radIntensity': '18.4', 'energyUncertainty': '9', 'subType': '', 'epEnergyUncertainty': '20', 'type': 'bp', 'energy': '631.2', 'epEnergy': '1458.9', 'doseUncertainty': '9'}, {'dose': '0.0030', 'radIntensityUncertainty': '17', 'radIntensity': '0.25', 'energyUncertainty': '10', 'subType': '', 'epEnergyUncertainty': '20', 'type': 'bp', 'energy': '1205.8', 'epEnergy': '2697.2', 'doseUncertainty': '20'}], 'gamma': [{'dose': '4.7E-6', 'radIntensityUncertainty': '7', 'radIntensity': '0.67', 'energyUncertainty': '', 'subType': 'XR l', 'epEnergyUncertainty': '', 'type': 'g', 'energy': '0.7', 'epEnergy': '', 'doseUncertainty': '5'}, {'dose': '4.68E-4', 'radIntensityUncertainty': '4', 'radIntensity': '7.3', 'energyUncertainty': '', 'subType': 'XR ka2', 'epEnergyUncertainty': '', 'type': 'g', 'energy': '6.391', 'epEnergy': '', 'doseUncertainty': '23'}, {'dose': '9.3E-4', 'radIntensityUncertainty': '7', 'radIntensity': '14.5', 'energyUncertainty': '', 'subType': 'XR ka1', 'epEnergyUncertainty': '', 'type': 'g', 'energy': '6.404', 'epEnergy': '', 'doseUncertainty': '4'}, {'dose': '1.22E-4', 'radIntensityUncertainty': '8', 'radIntensity': '1.72', 'energyUncertainty': '', 'subType': 'XR kb1', 'epEnergyUncertainty': '', 'type': 'g', 'energy': '7.058', 'epEnergy': '', 'doseUncertainty': '6'}, {'dose': '6.2E-5', 'radIntensityUncertainty': '4', 'radIntensity': '0.88', 'energyUncertainty': '', 'subType': 'XR kb3', 'epEnergyUncertainty': '', 'type': 'g', 'energy': '7.058', 'epEnergy': '', 'doseUncertainty': '3'}, {'dose': '5.79E-5', 'radIntensityUncertainty': '3', 'radIntensity': '0.0220', 'energyUncertainty': '5', 'subType': '', 'epEnergyUncertainty': '', 'type': 'g', 'energy': '263.434', 'epEnergy': '', 'doseUncertainty': '8'}, {'dose': '9.9E-5', 'radIntensityUncertainty': '3', 'radIntensity': '0.024', 'energyUncertainty': '4', 'subType': '', 'epEnergyUncertainty': '', 'type': 'g', 'energy': '411.145', 'epEnergy': '', 'doseUncertainty': '12'}, {'dose': '2.63E-4', 'radIntensityUncertainty': '20', 'radIntensity': '0.0540', 'energyUncertainty': '11', 'subType': '', 'epEnergyUncertainty': '', 'type': 'g', 'energy': '486.55', 'epEnergy': '', 'doseUncertainty': '10'}, {'dose': '', 'radIntensityUncertainty': '3', 'radIntensity': '39', 'energyUncertainty': '', 'subType': 'Annihil.', 'epEnergyUncertainty': '', 'type': 'g', 'energy': '511.0', 'epEnergy': '', 'doseUncertainty': ''}, {'dose': '2.8E-4', 'radIntensityUncertainty': '4', 'radIntensity': '0.043', 'energyUncertainty': '5', 'subType': '', 'epEnergyUncertainty': '', 'type': 'g', 'energy': '655.003', 'epEnergy': '', 'doseUncertainty': '3'}, {'dose': '1.62E-4', 'radIntensityUncertainty': '3', 'radIntensity': '0.024', 'energyUncertainty': '5', 'subType': '', 'epEnergyUncertainty': '', 'type': 'g', 'energy': '674.570', 'epEnergy': '', 'doseUncertainty': '20'}, {'dose': '0.001400', 'radIntensityUncertainty': '3', 'radIntensity': '0.191', 'energyUncertainty': '4', 'subType': '', 'epEnergyUncertainty': '', 'type': 'g', 'energy': '733.514', 'epEnergy': '', 'doseUncertainty': '22'}, {'dose': '0.002448', 'radIntensityUncertainty': '3', 'radIntensity': '0.311', 'energyUncertainty': '5', 'subType': '', 'epEnergyUncertainty': '', 'type': 'g', 'energy': '787.743', 'epEnergy': '', 'doseUncertainty': '24'}, {'dose': '0.846261', 'radIntensityUncertainty': '', 'radIntensity': '99.9399', 'energyUncertainty': '2', 'subType': '', 'epEnergyUncertainty': '', 'type': 'g', 'energy': '846.770', 'epEnergy': '', 'doseUncertainty': ''}, {'dose': '4.2E-4', 'radIntensityUncertainty': '3', 'radIntensity': '0.049', 'energyUncertainty': '4', 'subType': '', 'epEnergyUncertainty': '', 'type': 'g', 'energy': '852.732', 'epEnergy': '', 'doseUncertainty': '3'}, {'dose': '6.5E-4', 'radIntensityUncertainty': '3', 'radIntensity': '0.073', 'energyUncertainty': '6', 'subType': '', 'epEnergyUncertainty': '', 'type': 'g', 'energy': '896.510', 'epEnergy': '', 'doseUncertainty': '3'}, {'dose': '0.01389', 'radIntensityUncertainty': '6', 'radIntensity': '1.421', 'energyUncertainty': '5', 'subType': '', 'epEnergyUncertainty': '', 'type': 'g', 'energy': '977.372', 'epEnergy': '', 'doseUncertainty': '6'}, {'dose': '0.00111', 'radIntensityUncertainty': '4', 'radIntensity': '0.111', 'energyUncertainty': '5', 'subType': '', 'epEnergyUncertainty': '', 'type': 'g', 'energy': '996.948', 'epEnergy': '', 'doseUncertainty': '4'}, {'dose': '0.1458', 'radIntensityUncertainty': '4', 'radIntensity': '14.05', 'energyUncertainty': '4', 'subType': '', 'epEnergyUncertainty': '', 'type': 'g', 'energy': '1037.843', 'epEnergy': '', 'doseUncertainty': '4'}, {'dose': '6.0E-4', 'radIntensityUncertainty': '4', 'radIntensity': '0.055', 'energyUncertainty': '9', 'subType': '', 'epEnergyUncertainty': '', 'type': 'g', 'energy': '1088.894', 'epEnergy': '', 'doseUncertainty': '4'}, {'dose': '0.00150', 'radIntensityUncertainty': '3', 'radIntensity': '0.132', 'energyUncertainty': '6', 'subType': '', 'epEnergyUncertainty': '', 'type': 'g', 'energy': '1140.368', 'epEnergy': '', 'doseUncertainty': '3'}, {'dose': '0.00109', 'radIntensityUncertainty': '6', 'radIntensity': '0.094', 'energyUncertainty': '6', 'subType': '', 'epEnergyUncertainty': '', 'type': 'g', 'energy': '1159.944', 'epEnergy': '', 'doseUncertainty': '7'}, {'dose': '0.02646', 'radIntensityUncertainty': '6', 'radIntensity': '2.252', 'energyUncertainty': '4', 'subType': '', 'epEnergyUncertainty': '', 'type': 'g', 'energy': '1175.101', 'epEnergy': '', 'doseUncertainty': '7'}, {'dose': '5.9E-4', 'radIntensityUncertainty': '5', 'radIntensity': '0.049', 'energyUncertainty': '5', 'subType': '', 'epEnergyUncertainty': '', 'type': 'g', 'energy': '1198.888', 'epEnergy': '', 'doseUncertainty': '6'}, {'dose': '0.8230', 'radIntensityUncertainty': '12', 'radIntensity': '66.46', 'energyUncertainty': '3', 'subType': '', 'epEnergyUncertainty': '', 'type': 'g', 'energy': '1238.288', 'epEnergy': '', 'doseUncertainty': '15'}, {'dose': '2.54E-4', 'radIntensityUncertainty': '7', 'radIntensity': '0.0200', 'energyUncertainty': '6', 'subType': '', 'epEnergyUncertainty': '', 'type': 'g', 'energy': '1271.92', 'epEnergy': '', 'doseUncertainty': '9'}, {'dose': '0.001635', 'radIntensityUncertainty': '12', 'radIntensity': '0.1224', 'energyUncertainty': '3', 'subType': '', 'epEnergyUncertainty': '', 'type': 'g', 'energy': '1335.40', 'epEnergy': '', 'doseUncertainty': '16'}, {'dose': '0.05826', 'radIntensityUncertainty': '12', 'radIntensity': '4.283', 'energyUncertainty': '4', 'subType': '', 'epEnergyUncertainty': '', 'type': 'g', 'energy': '1360.212', 'epEnergy': '', 'doseUncertainty': '16'}, {'dose': '0.00260', 'radIntensityUncertainty': '4', 'radIntensity': '0.180', 'energyUncertainty': '6', 'subType': '', 'epEnergyUncertainty': '', 'type': 'g', 'energy': '1442.746', 'epEnergy': '', 'doseUncertainty': '6'}, {'dose': '0.00108', 'radIntensityUncertainty': '4', 'radIntensity': '0.074', 'energyUncertainty': '6', 'subType': '', 'epEnergyUncertainty': '', 'type': 'g', 'energy': '1462.322', 'epEnergy': '', 'doseUncertainty': '6'}, {'dose': '0.00101', 'radIntensityUncertainty': '19', 'radIntensity': '0.0616', 'energyUncertainty': '5', 'subType': '', 'epEnergyUncertainty': '', 'type': 'g', 'energy': '1640.475', 'epEnergy': '', 'doseUncertainty': '3'}, {'dose': '0.2730', 'radIntensityUncertainty': '6', 'radIntensity': '15.41', 'energyUncertainty': '4', 'subType': '', 'epEnergyUncertainty': '', 'type': 'g', 'energy': '1771.357', 'epEnergy': '', 'doseUncertainty': '11'}, {'dose': '0.01158', 'radIntensityUncertainty': '3', 'radIntensity': '0.640', 'energyUncertainty': '4', 'subType': '', 'epEnergyUncertainty': '', 'type': 'g', 'energy': '1810.757', 'epEnergy': '', 'doseUncertainty': '5'}, {'dose': '0.01388', 'radIntensityUncertainty': '4', 'radIntensity': '0.707', 'energyUncertainty': '8', 'subType': '', 'epEnergyUncertainty': '', 'type': 'g', 'energy': '1963.741', 'epEnergy': '', 'doseUncertainty': '8'}, {'dose': '0.06078', 'radIntensityUncertainty': '12', 'radIntensity': '3.016', 'energyUncertainty': '5', 'subType': '', 'epEnergyUncertainty': '', 'type': 'g', 'energy': '2015.215', 'epEnergy': '', 'doseUncertainty': '24'}, {'dose': '0.1581', 'radIntensityUncertainty': '3', 'radIntensity': '7.77', 'energyUncertainty': '5', 'subType': '', 'epEnergyUncertainty': '', 'type': 'g', 'energy': '2034.791', 'epEnergy': '', 'doseUncertainty': '6'}, {'dose': '0.00796', 'radIntensityUncertainty': '3', 'radIntensity': '0.377', 'energyUncertainty': '5', 'subType': '', 'epEnergyUncertainty': '', 'type': 'g', 'energy': '2113.135', 'epEnergy': '', 'doseUncertainty': '6'}, {'dose': '0.00858', 'radIntensityUncertainty': '4', 'radIntensity': '0.388', 'energyUncertainty': '4', 'subType': '', 'epEnergyUncertainty': '', 'type': 'g', 'energy': '2212.944', 'epEnergy': '', 'doseUncertainty': '9'}, {'dose': '0.00268', 'radIntensityUncertainty': '4', 'radIntensity': '0.118', 'energyUncertainty': '4', 'subType': '', 'epEnergyUncertainty': '', 'type': 'g', 'energy': '2276.131', 'epEnergy': '', 'doseUncertainty': '9'}, {'dose': '0.00190', 'radIntensityUncertainty': '4', 'radIntensity': '0.080', 'energyUncertainty': '3', 'subType': '', 'epEnergyUncertainty': '', 'type': 'g', 'energy': '2373.24', 'epEnergy': '', 'doseUncertainty': '9'}, {'dose': '0.00149', 'radIntensityUncertainty': '4', 'radIntensity': '0.059', 'energyUncertainty': '11', 'subType': '', 'epEnergyUncertainty': '', 'type': 'g', 'energy': '2523.09', 'epEnergy': '', 'doseUncertainty': '10'}, {'dose': '0.4410', 'radIntensityUncertainty': '4', 'radIntensity': '16.97', 'energyUncertainty': '4', 'subType': '', 'epEnergyUncertainty': '', 'type': 'g', 'energy': '2598.500', 'epEnergy': '', 'doseUncertainty': '10'}, {'dose': '5.0E-4', 'radIntensityUncertainty': '17', 'radIntensity': '0.0190', 'energyUncertainty': '4', 'subType': '', 'epEnergyUncertainty': '', 'type': 'g', 'energy': '2657.527', 'epEnergy': '', 'doseUncertainty': '5'}, {'dose': '0.0312', 'radIntensityUncertainty': '13', 'radIntensity': '1.036', 'energyUncertainty': '4', 'subType': '', 'epEnergyUncertainty': '', 'type': 'g', 'energy': '3009.645', 'epEnergy': '', 'doseUncertainty': '4'}, {'dose': '0.1028', 'radIntensityUncertainty': '12', 'radIntensity': '3.209', 'energyUncertainty': '8', 'subType': '', 'epEnergyUncertainty': '', 'type': 'g', 'energy': '3202.029', 'epEnergy': '', 'doseUncertainty': '4'}, {'dose': '0.2578', 'radIntensityUncertainty': '21', 'radIntensity': '7.923', 'energyUncertainty': '4', 'subType': '', 'epEnergyUncertainty': '', 'type': 'g', 'energy': '3253.503', 'epEnergy': '', 'doseUncertainty': '7'}, {'dose': '0.06140', 'radIntensityUncertainty': '20', 'radIntensity': '1.8759', 'energyUncertainty': '4', 'subType': '', 'epEnergyUncertainty': '', 'type': 'g', 'energy': '3273.079', 'epEnergy': '', 'doseUncertainty': '7'}, {'dose': '3.40E-4', 'radIntensityUncertainty': '7', 'radIntensity': '0.0101', 'energyUncertainty': '11', 'subType': '', 'epEnergyUncertainty': '', 'type': 'g', 'energy': '3369.86', 'epEnergy': '', 'doseUncertainty': '24'}, {'dose': '0.03277', 'radIntensityUncertainty': '5', 'radIntensity': '0.949', 'energyUncertainty': '4', 'subType': '', 'epEnergyUncertainty': '', 'type': 'g', 'energy': '3451.232', 'epEnergy': '', 'doseUncertainty': '17'}, {'dose': '0.00694', 'radIntensityUncertainty': '15', 'radIntensity': '0.1955', 'energyUncertainty': '6', 'subType': '', 'epEnergyUncertainty': '', 'type': 'g', 'energy': '3548.05', 'epEnergy': '', 'doseUncertainty': '5'}, {'dose': '6.01E-4', 'radIntensityUncertainty': '5', 'radIntensity': '0.0167', 'energyUncertainty': '4', 'subType': '', 'epEnergyUncertainty': '', 'type': 'g', 'energy': '3600.8', 'epEnergy': '', 'doseUncertainty': '18'}, {'dose': '3.10E-4', 'radIntensityUncertainty': '3', 'radIntensity': '0.0086', 'energyUncertainty': '3', 'subType': '', 'epEnergyUncertainty': '', 'type': 'g', 'energy': '3611.53', 'epEnergy': '', 'doseUncertainty': '11'}]}, 'energyBalance': {'xRays': '1.59 5', 'gammas': '3608 15', 'neutrinos': '844 13', 'recoil': '0', 'qEffective': '4566.0 20', 'conversionElectrons': '0.3724 24', 'sum': '4578 22', 'neutrons': '0', 'betaMinus': '0', 'augerElectrons': '3.349 22', 'protons': '0', 'alphas': '0', 'betaPlus': '121 9', 'missingEnergy': '0 AP', 'ratio': '0 % AP'}, 'daughter': {'a': '56', 'z': '26', 'n': '30', 'element': 'Fe'}}\n"
     ]
    }
   ],
   "source": [
    "nuclide = \"Co56\"\n",
    "get_json_from_ensdf(nuclide)"
   ]
  }
 ],
 "metadata": {
  "kernelspec": {
   "display_name": "Python 3 (ipykernel)",
   "language": "python",
   "name": "python3"
  },
  "language_info": {
   "codemirror_mode": {
    "name": "ipython",
    "version": 3
   },
   "file_extension": ".py",
   "mimetype": "text/x-python",
   "name": "python",
   "nbconvert_exporter": "python",
   "pygments_lexer": "ipython3",
   "version": "3.8.16"
  }
 },
 "nbformat": 4,
 "nbformat_minor": 5
}
