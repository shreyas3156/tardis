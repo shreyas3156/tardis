{
 "cells": [
  {
   "cell_type": "code",
   "execution_count": 1,
   "id": "48b1fc2a",
   "metadata": {},
   "outputs": [
    {
     "data": {
      "application/vnd.jupyter.widget-view+json": {
       "model_id": "",
       "version_major": 2,
       "version_minor": 0
      },
      "text/plain": [
       "Iterations:          0/? [00:00<?, ?it/s]"
      ]
     },
     "metadata": {},
     "output_type": "display_data"
    },
    {
     "data": {
      "application/vnd.jupyter.widget-view+json": {
       "model_id": "",
       "version_major": 2,
       "version_minor": 0
      },
      "text/plain": [
       "Packets:             0/? [00:00<?, ?it/s]"
      ]
     },
     "metadata": {},
     "output_type": "display_data"
    }
   ],
   "source": [
    "import numpy as np\n",
    "import astropy as apy\n",
    "\n",
    "from tardis.io.atom_data import AtomData\n",
    "from tardis.io.config_reader import Configuration\n",
    "\n",
    "from tardis.model import Radial1DModel\n",
    "from tardis.plasma.base import BasePlasma\n",
    "from tardis.energy_input.indivisible_packets import main_gamma_ray_loop\n",
    "\n",
    "import matplotlib.pyplot as plt"
   ]
  },
  {
   "cell_type": "markdown",
   "id": "4cc45f70",
   "metadata": {},
   "source": [
    "#### Configuration Object"
   ]
  },
  {
   "cell_type": "markdown",
   "id": "cbf6aee8",
   "metadata": {},
   "source": [
    "We use another configuration file that has **Ni56** isotope in the abundances."
   ]
  },
  {
   "cell_type": "code",
   "execution_count": 2,
   "id": "079f3f75",
   "metadata": {},
   "outputs": [],
   "source": [
    "config = Configuration.from_yaml(\"../../../../tardis/io/tests/data/tardis_configv1_density_exponential_nebular.yml\")"
   ]
  },
  {
   "cell_type": "code",
   "execution_count": 3,
   "id": "f662accc",
   "metadata": {},
   "outputs": [
    {
     "data": {
      "text/plain": [
       "{'type': 'uniform',\n",
       " 'O': 0.19,\n",
       " 'Mg': 0.03,\n",
       " 'Si': 0.12,\n",
       " 'S': 0.09,\n",
       " 'Ar': 0.04,\n",
       " 'Ca': 0.03,\n",
       " 'Ni56': 0.5}"
      ]
     },
     "execution_count": 3,
     "metadata": {},
     "output_type": "execute_result"
    }
   ],
   "source": [
    "config.model.abundances"
   ]
  },
  {
   "cell_type": "markdown",
   "id": "9486fdd5",
   "metadata": {},
   "source": [
    "#### Model Object"
   ]
  },
  {
   "cell_type": "code",
   "execution_count": 4,
   "id": "a624734c",
   "metadata": {},
   "outputs": [],
   "source": [
    "# Create model\n",
    "model = Radial1DModel.from_config(config)"
   ]
  },
  {
   "cell_type": "markdown",
   "id": "d512bf0c",
   "metadata": {},
   "source": [
    "#### AtomData Object"
   ]
  },
  {
   "cell_type": "code",
   "execution_count": 5,
   "id": "f526cc71",
   "metadata": {},
   "outputs": [],
   "source": [
    "# Create AtomData object\n",
    "config.atom_data = \"kurucz_cd23_chianti_H_He.h5\"\n",
    "atomic_data = AtomData.from_hdf(config.atom_data)"
   ]
  },
  {
   "cell_type": "markdown",
   "id": "e8bbb311",
   "metadata": {},
   "source": [
    "#### Plasma Object"
   ]
  },
  {
   "cell_type": "code",
   "execution_count": 6,
   "id": "2ccc112f",
   "metadata": {},
   "outputs": [],
   "source": [
    "from tardis.plasma.properties import Density, Abundance, IsotopeAbundance, IsotopeNumberDensity, AtomicData, AtomicMass, IsotopeMass, NumberDensity, SelectedAtoms\n",
    "\n",
    "# plasma properties input\n",
    "input = [Density, Abundance, IsotopeAbundance, AtomicData, AtomicMass, IsotopeNumberDensity, NumberDensity, SelectedAtoms, IsotopeMass]"
   ]
  },
  {
   "cell_type": "code",
   "execution_count": 7,
   "id": "1314bd8d",
   "metadata": {},
   "outputs": [],
   "source": [
    "#Create BasePlasma Object\n",
    "plasma = BasePlasma(\n",
    "        plasma_properties=input,\n",
    "        density = model.density,\n",
    "        abundance = model.abundance,\n",
    "        isotope_abundance = model.raw_isotope_abundance,\n",
    "        atomic_data = atomic_data\n",
    "    )\n",
    "    "
   ]
  },
  {
   "cell_type": "markdown",
   "id": "04cb4d41",
   "metadata": {},
   "source": [
    "The **BasePlasma** object is generated successfully thanks to the non-null data in **raw_isotope_abundance**."
   ]
  },
  {
   "cell_type": "code",
   "execution_count": 8,
   "id": "c64a86a6",
   "metadata": {
    "scrolled": true
   },
   "outputs": [
    {
     "data": {
      "text/html": [
       "<div>\n",
       "<style scoped>\n",
       "    .dataframe tbody tr th:only-of-type {\n",
       "        vertical-align: middle;\n",
       "    }\n",
       "\n",
       "    .dataframe tbody tr th {\n",
       "        vertical-align: top;\n",
       "    }\n",
       "\n",
       "    .dataframe thead th {\n",
       "        text-align: right;\n",
       "    }\n",
       "</style>\n",
       "<table border=\"1\" class=\"dataframe\">\n",
       "  <thead>\n",
       "    <tr style=\"text-align: right;\">\n",
       "      <th></th>\n",
       "      <th></th>\n",
       "      <th>0</th>\n",
       "      <th>1</th>\n",
       "      <th>2</th>\n",
       "      <th>3</th>\n",
       "      <th>4</th>\n",
       "      <th>5</th>\n",
       "      <th>6</th>\n",
       "      <th>7</th>\n",
       "      <th>8</th>\n",
       "      <th>9</th>\n",
       "      <th>10</th>\n",
       "      <th>11</th>\n",
       "      <th>12</th>\n",
       "      <th>13</th>\n",
       "      <th>14</th>\n",
       "      <th>15</th>\n",
       "      <th>16</th>\n",
       "      <th>17</th>\n",
       "      <th>18</th>\n",
       "      <th>19</th>\n",
       "    </tr>\n",
       "    <tr>\n",
       "      <th>atomic_number</th>\n",
       "      <th>mass_number</th>\n",
       "      <th></th>\n",
       "      <th></th>\n",
       "      <th></th>\n",
       "      <th></th>\n",
       "      <th></th>\n",
       "      <th></th>\n",
       "      <th></th>\n",
       "      <th></th>\n",
       "      <th></th>\n",
       "      <th></th>\n",
       "      <th></th>\n",
       "      <th></th>\n",
       "      <th></th>\n",
       "      <th></th>\n",
       "      <th></th>\n",
       "      <th></th>\n",
       "      <th></th>\n",
       "      <th></th>\n",
       "      <th></th>\n",
       "      <th></th>\n",
       "    </tr>\n",
       "  </thead>\n",
       "  <tbody>\n",
       "    <tr>\n",
       "      <th>28</th>\n",
       "      <th>56</th>\n",
       "      <td>0.5</td>\n",
       "      <td>0.5</td>\n",
       "      <td>0.5</td>\n",
       "      <td>0.5</td>\n",
       "      <td>0.5</td>\n",
       "      <td>0.5</td>\n",
       "      <td>0.5</td>\n",
       "      <td>0.5</td>\n",
       "      <td>0.5</td>\n",
       "      <td>0.5</td>\n",
       "      <td>0.5</td>\n",
       "      <td>0.5</td>\n",
       "      <td>0.5</td>\n",
       "      <td>0.5</td>\n",
       "      <td>0.5</td>\n",
       "      <td>0.5</td>\n",
       "      <td>0.5</td>\n",
       "      <td>0.5</td>\n",
       "      <td>0.5</td>\n",
       "      <td>0.5</td>\n",
       "    </tr>\n",
       "  </tbody>\n",
       "</table>\n",
       "</div>"
      ],
      "text/plain": [
       "                            0    1    2    3    4    5    6    7    8    9   \\\n",
       "atomic_number mass_number                                                     \n",
       "28            56           0.5  0.5  0.5  0.5  0.5  0.5  0.5  0.5  0.5  0.5   \n",
       "\n",
       "                            10   11   12   13   14   15   16   17   18   19  \n",
       "atomic_number mass_number                                                    \n",
       "28            56           0.5  0.5  0.5  0.5  0.5  0.5  0.5  0.5  0.5  0.5  "
      ]
     },
     "execution_count": 8,
     "metadata": {},
     "output_type": "execute_result"
    }
   ],
   "source": [
    "model.raw_isotope_abundance"
   ]
  },
  {
   "cell_type": "code",
   "execution_count": 9,
   "id": "2bbdfc61",
   "metadata": {},
   "outputs": [],
   "source": [
    "#Setting up number of decays requested\n",
    "num_decays = config.montecarlo.no_of_packets"
   ]
  },
  {
   "cell_type": "markdown",
   "id": "b475886d",
   "metadata": {},
   "source": [
    "\n",
    "Setting the end time of simulation to 155 days so that ```time_end > time_start``` ( = ```time_explosion```)."
   ]
  },
  {
   "cell_type": "code",
   "execution_count": 16,
   "id": "73f3b59e",
   "metadata": {},
   "outputs": [
    {
     "data": {
      "text/latex": [
       "$150 \\; \\mathrm{d}$"
      ],
      "text/plain": [
       "<Quantity 150. d>"
      ]
     },
     "execution_count": 16,
     "metadata": {},
     "output_type": "execute_result"
    }
   ],
   "source": [
    "config.supernova.time_explosion"
   ]
  },
  {
   "cell_type": "code",
   "execution_count": 17,
   "id": "0eb17c07",
   "metadata": {},
   "outputs": [],
   "source": [
    "time_end = 155.0"
   ]
  },
  {
   "cell_type": "code",
   "execution_count": 18,
   "id": "8129cf79",
   "metadata": {},
   "outputs": [
    {
     "ename": "FileNotFoundError",
     "evalue": "File /home/sherryff/Downloads/tardisnuclear/decay_radiation.h5 does not exist",
     "output_type": "error",
     "traceback": [
      "\u001b[0;31m---------------------------------------------------------------------------\u001b[0m",
      "\u001b[0;31mFileNotFoundError\u001b[0m                         Traceback (most recent call last)",
      "Cell \u001b[0;32mIn[18], line 8\u001b[0m\n\u001b[1;32m      1\u001b[0m (\n\u001b[1;32m      2\u001b[0m     energy_df,\n\u001b[1;32m      3\u001b[0m     energy_plot_df,\n\u001b[1;32m      4\u001b[0m     escape_energy,\n\u001b[1;32m      5\u001b[0m     decayed_packet_count,\n\u001b[1;32m      6\u001b[0m     energy_plot_positrons,\n\u001b[1;32m      7\u001b[0m     estimated_deposition\n\u001b[0;32m----> 8\u001b[0m ) \u001b[38;5;241m=\u001b[39m \u001b[43mmain_gamma_ray_loop\u001b[49m\u001b[43m(\u001b[49m\n\u001b[1;32m      9\u001b[0m \u001b[43m    \u001b[49m\u001b[43mnum_decays\u001b[49m\u001b[43m,\u001b[49m\n\u001b[1;32m     10\u001b[0m \u001b[43m    \u001b[49m\u001b[43mmodel\u001b[49m\u001b[43m,\u001b[49m\n\u001b[1;32m     11\u001b[0m \u001b[43m    \u001b[49m\u001b[43mplasma\u001b[49m\u001b[43m,\u001b[49m\n\u001b[1;32m     12\u001b[0m \u001b[43m    \u001b[49m\u001b[43mtime_end\u001b[49m\u001b[43m \u001b[49m\u001b[38;5;241;43m=\u001b[39;49m\u001b[43m \u001b[49m\u001b[43mtime_end\u001b[49m\n\u001b[1;32m     13\u001b[0m \u001b[43m)\u001b[49m\n",
      "File \u001b[0;32m~/MyProjects/tardis/tardis/energy_input/indivisible_packets.py:577\u001b[0m, in \u001b[0;36mmain_gamma_ray_loop\u001b[0;34m(num_decays, model, plasma, time_steps, time_end, grey_opacity, spectrum_bins, time_space, photoabsorption_opacity, pair_creation_opacity, seed, path_to_decay_data, positronium_fraction)\u001b[0m\n\u001b[1;32m    574\u001b[0m all_isotope_names \u001b[38;5;241m=\u001b[39m get_all_isotopes(raw_isotope_abundance)\n\u001b[1;32m    575\u001b[0m all_isotope_names\u001b[38;5;241m.\u001b[39msort()\n\u001b[0;32m--> 577\u001b[0m gamma_ray_lines, isotope_metadata \u001b[38;5;241m=\u001b[39m \u001b[43mget_nuclear_lines_database\u001b[49m\u001b[43m(\u001b[49m\n\u001b[1;32m    578\u001b[0m \u001b[43m    \u001b[49m\u001b[43mpath_to_decay_data\u001b[49m\n\u001b[1;32m    579\u001b[0m \u001b[43m\u001b[49m\u001b[43m)\u001b[49m\n\u001b[1;32m    581\u001b[0m taus \u001b[38;5;241m=\u001b[39m {}\n\u001b[1;32m    582\u001b[0m parents \u001b[38;5;241m=\u001b[39m {}\n",
      "File \u001b[0;32m~/MyProjects/tardis/tardis/energy_input/energy_source.py:276\u001b[0m, in \u001b[0;36mget_nuclear_lines_database\u001b[0;34m(path)\u001b[0m\n\u001b[1;32m    259\u001b[0m \u001b[38;5;28;01mdef\u001b[39;00m \u001b[38;5;21mget_nuclear_lines_database\u001b[39m(\n\u001b[1;32m    260\u001b[0m     path,\n\u001b[1;32m    261\u001b[0m ):\n\u001b[1;32m    262\u001b[0m \u001b[38;5;250m    \u001b[39m\u001b[38;5;124;03m\"\"\"Load the nuclear decay line data set\u001b[39;00m\n\u001b[1;32m    263\u001b[0m \n\u001b[1;32m    264\u001b[0m \u001b[38;5;124;03m    Parameters\u001b[39;00m\n\u001b[0;32m   (...)\u001b[0m\n\u001b[1;32m    274\u001b[0m \u001b[38;5;124;03m        Meta information\u001b[39;00m\n\u001b[1;32m    275\u001b[0m \u001b[38;5;124;03m    \"\"\"\u001b[39;00m\n\u001b[0;32m--> 276\u001b[0m     decay_radiation_db \u001b[38;5;241m=\u001b[39m \u001b[43mpd\u001b[49m\u001b[38;5;241;43m.\u001b[39;49m\u001b[43mread_hdf\u001b[49m\u001b[43m(\u001b[49m\u001b[43mpath\u001b[49m\u001b[43m,\u001b[49m\u001b[43m \u001b[49m\u001b[38;5;124;43m\"\u001b[39;49m\u001b[38;5;124;43mdecay_radiation\u001b[39;49m\u001b[38;5;124;43m\"\u001b[39;49m\u001b[43m)\u001b[49m\n\u001b[1;32m    277\u001b[0m     meta \u001b[38;5;241m=\u001b[39m pd\u001b[38;5;241m.\u001b[39mread_hdf(path, \u001b[38;5;124m\"\u001b[39m\u001b[38;5;124mmetadata\u001b[39m\u001b[38;5;124m\"\u001b[39m)\n\u001b[1;32m    278\u001b[0m     \u001b[38;5;28;01mreturn\u001b[39;00m decay_radiation_db, meta\n",
      "File \u001b[0;32m~/miniconda3/envs/tardis/lib/python3.8/site-packages/pandas/io/pytables.py:395\u001b[0m, in \u001b[0;36mread_hdf\u001b[0;34m(path_or_buf, key, mode, errors, where, start, stop, columns, iterator, chunksize, **kwargs)\u001b[0m\n\u001b[1;32m    392\u001b[0m     exists \u001b[38;5;241m=\u001b[39m \u001b[38;5;28;01mFalse\u001b[39;00m\n\u001b[1;32m    394\u001b[0m \u001b[38;5;28;01mif\u001b[39;00m \u001b[38;5;129;01mnot\u001b[39;00m exists:\n\u001b[0;32m--> 395\u001b[0m     \u001b[38;5;28;01mraise\u001b[39;00m \u001b[38;5;167;01mFileNotFoundError\u001b[39;00m(\u001b[38;5;124mf\u001b[39m\u001b[38;5;124m\"\u001b[39m\u001b[38;5;124mFile \u001b[39m\u001b[38;5;132;01m{\u001b[39;00mpath_or_buf\u001b[38;5;132;01m}\u001b[39;00m\u001b[38;5;124m does not exist\u001b[39m\u001b[38;5;124m\"\u001b[39m)\n\u001b[1;32m    397\u001b[0m store \u001b[38;5;241m=\u001b[39m HDFStore(path_or_buf, mode\u001b[38;5;241m=\u001b[39mmode, errors\u001b[38;5;241m=\u001b[39merrors, \u001b[38;5;241m*\u001b[39m\u001b[38;5;241m*\u001b[39mkwargs)\n\u001b[1;32m    398\u001b[0m \u001b[38;5;66;03m# can't auto open/close if we are using an iterator\u001b[39;00m\n\u001b[1;32m    399\u001b[0m \u001b[38;5;66;03m# so delegate to the iterator\u001b[39;00m\n",
      "\u001b[0;31mFileNotFoundError\u001b[0m: File /home/sherryff/Downloads/tardisnuclear/decay_radiation.h5 does not exist"
     ]
    }
   ],
   "source": [
    "(\n",
    "    energy_df,\n",
    "    energy_plot_df,\n",
    "    escape_energy,\n",
    "    decayed_packet_count,\n",
    "    energy_plot_positrons,\n",
    "    estimated_deposition\n",
    ") = main_gamma_ray_loop(\n",
    "    num_decays,\n",
    "    model,\n",
    "    plasma,\n",
    "    time_end = time_end\n",
    ")\n"
   ]
  },
  {
   "cell_type": "markdown",
   "id": "c4418688",
   "metadata": {},
   "source": [
    "Since the **decay_radiation.h5** file has not been downloaded, **pandas** returns the expected ```'File does not exist'``` error."
   ]
  }
 ],
 "metadata": {
  "kernelspec": {
   "display_name": "Python 3 (ipykernel)",
   "language": "python",
   "name": "python3"
  },
  "language_info": {
   "codemirror_mode": {
    "name": "ipython",
    "version": 3
   },
   "file_extension": ".py",
   "mimetype": "text/x-python",
   "name": "python",
   "nbconvert_exporter": "python",
   "pygments_lexer": "ipython3",
   "version": "3.8.16"
  }
 },
 "nbformat": 4,
 "nbformat_minor": 5
}
