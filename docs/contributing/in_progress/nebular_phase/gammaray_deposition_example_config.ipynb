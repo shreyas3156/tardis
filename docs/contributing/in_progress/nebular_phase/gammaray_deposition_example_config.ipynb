{
 "cells": [
  {
   "cell_type": "code",
   "execution_count": 1,
   "id": "48b1fc2a",
   "metadata": {
    "collapsed": true
   },
   "outputs": [
    {
     "data": {
      "application/vnd.jupyter.widget-view+json": {
       "model_id": "",
       "version_major": 2,
       "version_minor": 0
      },
      "text/plain": [
       "Iterations:          0/? [00:00<?, ?it/s]"
      ]
     },
     "metadata": {},
     "output_type": "display_data"
    },
    {
     "data": {
      "application/vnd.jupyter.widget-view+json": {
       "model_id": "",
       "version_major": 2,
       "version_minor": 0
      },
      "text/plain": [
       "Packets:             0/? [00:00<?, ?it/s]"
      ]
     },
     "metadata": {},
     "output_type": "display_data"
    }
   ],
   "source": [
    "import numpy as np\n",
    "import astropy as apy\n",
    "\n",
    "from tardis.io.atom_data import AtomData\n",
    "from tardis.io.config_reader import Configuration\n",
    "\n",
    "from tardis.model import Radial1DModel\n",
    "from tardis.plasma.base import BasePlasma\n",
    "from tardis.energy_input.indivisible_packets import main_gamma_ray_loop\n",
    "\n",
    "import matplotlib.pyplot as plt"
   ]
  },
  {
   "cell_type": "markdown",
   "id": "fcdcb3eb",
   "metadata": {},
   "source": [
    "#### Configuration Object"
   ]
  },
  {
   "cell_type": "code",
   "execution_count": 2,
   "id": "079f3f75",
   "metadata": {},
   "outputs": [],
   "source": [
    "config = Configuration.from_yaml(\"../../../tardis_example.yml\")"
   ]
  },
  {
   "cell_type": "markdown",
   "id": "c6ca1844",
   "metadata": {},
   "source": [
    "#### Model Object"
   ]
  },
  {
   "cell_type": "code",
   "execution_count": 3,
   "id": "a624734c",
   "metadata": {},
   "outputs": [],
   "source": [
    "# Create model\n",
    "model = Radial1DModel.from_config(config)"
   ]
  },
  {
   "cell_type": "markdown",
   "id": "b8a7c3c7",
   "metadata": {},
   "source": [
    "#### AtomData Object"
   ]
  },
  {
   "cell_type": "code",
   "execution_count": 4,
   "id": "f526cc71",
   "metadata": {},
   "outputs": [],
   "source": [
    "# Create AtomData object\n",
    "config.atom_data = \"kurucz_cd23_chianti_H_He.h5\"\n",
    "atomic_data = AtomData.from_hdf(config.atom_data)"
   ]
  },
  {
   "cell_type": "markdown",
   "id": "c55e3ef5",
   "metadata": {},
   "source": [
    "#### Plasma Object"
   ]
  },
  {
   "cell_type": "code",
   "execution_count": 5,
   "id": "2ccc112f",
   "metadata": {},
   "outputs": [],
   "source": [
    "from tardis.plasma.properties import Density, Abundance, IsotopeAbundance, IsotopeNumberDensity, AtomicData, AtomicMass, IsotopeMass, NumberDensity, SelectedAtoms\n",
    "\n",
    "# plasma properties input\n",
    "input = [Density, Abundance, IsotopeAbundance, AtomicData, AtomicMass, IsotopeNumberDensity, NumberDensity, SelectedAtoms, IsotopeMass]"
   ]
  },
  {
   "cell_type": "code",
   "execution_count": 6,
   "id": "1314bd8d",
   "metadata": {},
   "outputs": [
    {
     "ename": "AttributeError",
     "evalue": "'NoneType' object has no attribute 'to_numpy'",
     "output_type": "error",
     "traceback": [
      "\u001b[0;31m---------------------------------------------------------------------------\u001b[0m",
      "\u001b[0;31mAttributeError\u001b[0m                            Traceback (most recent call last)",
      "Cell \u001b[0;32mIn[6], line 2\u001b[0m\n\u001b[1;32m      1\u001b[0m \u001b[38;5;66;03m#Create BasePlasma Object\u001b[39;00m\n\u001b[0;32m----> 2\u001b[0m plasma \u001b[38;5;241m=\u001b[39m \u001b[43mBasePlasma\u001b[49m\u001b[43m(\u001b[49m\n\u001b[1;32m      3\u001b[0m \u001b[43m        \u001b[49m\u001b[43mplasma_properties\u001b[49m\u001b[38;5;241;43m=\u001b[39;49m\u001b[38;5;28;43minput\u001b[39;49m\u001b[43m,\u001b[49m\n\u001b[1;32m      4\u001b[0m \u001b[43m        \u001b[49m\u001b[43mdensity\u001b[49m\u001b[43m \u001b[49m\u001b[38;5;241;43m=\u001b[39;49m\u001b[43m \u001b[49m\u001b[43mmodel\u001b[49m\u001b[38;5;241;43m.\u001b[39;49m\u001b[43mdensity\u001b[49m\u001b[43m,\u001b[49m\n\u001b[1;32m      5\u001b[0m \u001b[43m        \u001b[49m\u001b[43mabundance\u001b[49m\u001b[43m \u001b[49m\u001b[38;5;241;43m=\u001b[39;49m\u001b[43m \u001b[49m\u001b[43mmodel\u001b[49m\u001b[38;5;241;43m.\u001b[39;49m\u001b[43mabundance\u001b[49m\u001b[43m,\u001b[49m\n\u001b[1;32m      6\u001b[0m \u001b[43m        \u001b[49m\u001b[43misotope_abundance\u001b[49m\u001b[43m \u001b[49m\u001b[38;5;241;43m=\u001b[39;49m\u001b[43m \u001b[49m\u001b[43mmodel\u001b[49m\u001b[38;5;241;43m.\u001b[39;49m\u001b[43mraw_isotope_abundance\u001b[49m\u001b[43m,\u001b[49m\n\u001b[1;32m      7\u001b[0m \u001b[43m        \u001b[49m\u001b[43matomic_data\u001b[49m\u001b[43m \u001b[49m\u001b[38;5;241;43m=\u001b[39;49m\u001b[43m \u001b[49m\u001b[43matomic_data\u001b[49m\n\u001b[1;32m      8\u001b[0m \u001b[43m    \u001b[49m\u001b[43m)\u001b[49m\n",
      "File \u001b[0;32m~/MyProjects/tardis/tardis/io/util.py:195\u001b[0m, in \u001b[0;36mHDFWriterMixin.__new__\u001b[0;34m(cls, *args, **kwargs)\u001b[0m\n\u001b[1;32m    193\u001b[0m instance \u001b[38;5;241m=\u001b[39m \u001b[38;5;28msuper\u001b[39m(HDFWriterMixin, \u001b[38;5;28mcls\u001b[39m)\u001b[38;5;241m.\u001b[39m\u001b[38;5;21m__new__\u001b[39m(\u001b[38;5;28mcls\u001b[39m)\n\u001b[1;32m    194\u001b[0m instance\u001b[38;5;241m.\u001b[39moptional_hdf_properties \u001b[38;5;241m=\u001b[39m []\n\u001b[0;32m--> 195\u001b[0m \u001b[43minstance\u001b[49m\u001b[38;5;241;43m.\u001b[39;49m\u001b[38;5;21;43m__init__\u001b[39;49m\u001b[43m(\u001b[49m\u001b[38;5;241;43m*\u001b[39;49m\u001b[43margs\u001b[49m\u001b[43m,\u001b[49m\u001b[43m \u001b[49m\u001b[38;5;241;43m*\u001b[39;49m\u001b[38;5;241;43m*\u001b[39;49m\u001b[43mkwargs\u001b[49m\u001b[43m)\u001b[49m\n\u001b[1;32m    196\u001b[0m \u001b[38;5;28;01mreturn\u001b[39;00m instance\n",
      "File \u001b[0;32m~/MyProjects/tardis/tardis/plasma/base.py:28\u001b[0m, in \u001b[0;36mBasePlasma.__init__\u001b[0;34m(self, plasma_properties, property_kwargs, **kwargs)\u001b[0m\n\u001b[1;32m     24\u001b[0m \u001b[38;5;28mself\u001b[39m\u001b[38;5;241m.\u001b[39mplasma_properties \u001b[38;5;241m=\u001b[39m \u001b[38;5;28mself\u001b[39m\u001b[38;5;241m.\u001b[39m_init_properties(\n\u001b[1;32m     25\u001b[0m     plasma_properties, property_kwargs, \u001b[38;5;241m*\u001b[39m\u001b[38;5;241m*\u001b[39mkwargs\n\u001b[1;32m     26\u001b[0m )\n\u001b[1;32m     27\u001b[0m \u001b[38;5;28mself\u001b[39m\u001b[38;5;241m.\u001b[39m_build_graph()\n\u001b[0;32m---> 28\u001b[0m \u001b[38;5;28;43mself\u001b[39;49m\u001b[38;5;241;43m.\u001b[39;49m\u001b[43mupdate\u001b[49m\u001b[43m(\u001b[49m\u001b[38;5;241;43m*\u001b[39;49m\u001b[38;5;241;43m*\u001b[39;49m\u001b[43mkwargs\u001b[49m\u001b[43m)\u001b[49m\n",
      "File \u001b[0;32m~/MyProjects/tardis/tardis/plasma/base.py:181\u001b[0m, in \u001b[0;36mBasePlasma.update\u001b[0;34m(self, **kwargs)\u001b[0m\n\u001b[1;32m    178\u001b[0m     \u001b[38;5;28mself\u001b[39m\u001b[38;5;241m.\u001b[39moutputs_dict[key]\u001b[38;5;241m.\u001b[39mset_value(kwargs[key])\n\u001b[1;32m    180\u001b[0m \u001b[38;5;28;01mfor\u001b[39;00m module_name \u001b[38;5;129;01min\u001b[39;00m \u001b[38;5;28mself\u001b[39m\u001b[38;5;241m.\u001b[39m_resolve_update_list(kwargs\u001b[38;5;241m.\u001b[39mkeys()):\n\u001b[0;32m--> 181\u001b[0m     \u001b[38;5;28;43mself\u001b[39;49m\u001b[38;5;241;43m.\u001b[39;49m\u001b[43mplasma_properties_dict\u001b[49m\u001b[43m[\u001b[49m\u001b[43mmodule_name\u001b[49m\u001b[43m]\u001b[49m\u001b[38;5;241;43m.\u001b[39;49m\u001b[43mupdate\u001b[49m\u001b[43m(\u001b[49m\u001b[43m)\u001b[49m\n",
      "File \u001b[0;32m~/MyProjects/tardis/tardis/plasma/properties/base.py:110\u001b[0m, in \u001b[0;36mProcessingPlasmaProperty.update\u001b[0;34m(self)\u001b[0m\n\u001b[1;32m    105\u001b[0m \u001b[38;5;28;01mif\u001b[39;00m \u001b[38;5;129;01mnot\u001b[39;00m \u001b[38;5;28mself\u001b[39m\u001b[38;5;241m.\u001b[39mfrozen:\n\u001b[1;32m    106\u001b[0m     \u001b[38;5;28;01mif\u001b[39;00m \u001b[38;5;28mlen\u001b[39m(\u001b[38;5;28mself\u001b[39m\u001b[38;5;241m.\u001b[39moutputs) \u001b[38;5;241m==\u001b[39m \u001b[38;5;241m1\u001b[39m:\n\u001b[1;32m    107\u001b[0m         \u001b[38;5;28msetattr\u001b[39m(\n\u001b[1;32m    108\u001b[0m             \u001b[38;5;28mself\u001b[39m,\n\u001b[1;32m    109\u001b[0m             \u001b[38;5;28mself\u001b[39m\u001b[38;5;241m.\u001b[39moutputs[\u001b[38;5;241m0\u001b[39m],\n\u001b[0;32m--> 110\u001b[0m             \u001b[38;5;28;43mself\u001b[39;49m\u001b[38;5;241;43m.\u001b[39;49m\u001b[43mcalculate\u001b[49m\u001b[43m(\u001b[49m\u001b[38;5;241;43m*\u001b[39;49m\u001b[38;5;28;43mself\u001b[39;49m\u001b[38;5;241;43m.\u001b[39;49m\u001b[43m_get_input_values\u001b[49m\u001b[43m(\u001b[49m\u001b[43m)\u001b[49m\u001b[43m)\u001b[49m,\n\u001b[1;32m    111\u001b[0m         )\n\u001b[1;32m    112\u001b[0m     \u001b[38;5;28;01melse\u001b[39;00m:\n\u001b[1;32m    113\u001b[0m         new_values \u001b[38;5;241m=\u001b[39m \u001b[38;5;28mself\u001b[39m\u001b[38;5;241m.\u001b[39mcalculate(\u001b[38;5;241m*\u001b[39m\u001b[38;5;28mself\u001b[39m\u001b[38;5;241m.\u001b[39m_get_input_values())\n",
      "File \u001b[0;32m~/MyProjects/tardis/tardis/plasma/properties/general.py:133\u001b[0m, in \u001b[0;36mIsotopeNumberDensity.calculate\u001b[0;34m(isotope_mass, isotope_abundance, density)\u001b[0m\n\u001b[1;32m    114\u001b[0m \u001b[38;5;250m\u001b[39m\u001b[38;5;124;03m\"\"\"\u001b[39;00m\n\u001b[1;32m    115\u001b[0m \u001b[38;5;124;03mCalculate the atom number density based on isotope mass.\u001b[39;00m\n\u001b[1;32m    116\u001b[0m \n\u001b[0;32m   (...)\u001b[0m\n\u001b[1;32m    129\u001b[0m \u001b[38;5;124;03m    Indexed by atomic number, columns corresponding to zones.\u001b[39;00m\n\u001b[1;32m    130\u001b[0m \u001b[38;5;124;03m\"\"\"\u001b[39;00m\n\u001b[1;32m    131\u001b[0m number_densities \u001b[38;5;241m=\u001b[39m isotope_abundance \u001b[38;5;241m*\u001b[39m density\n\u001b[1;32m    132\u001b[0m isotope_number_density_array \u001b[38;5;241m=\u001b[39m (\n\u001b[0;32m--> 133\u001b[0m     number_densities\u001b[38;5;241m.\u001b[39mto_numpy() \u001b[38;5;241m/\u001b[39m \u001b[43misotope_mass\u001b[49m\u001b[38;5;241;43m.\u001b[39;49m\u001b[43mto_numpy\u001b[49m()\n\u001b[1;32m    134\u001b[0m )\n\u001b[1;32m    135\u001b[0m \u001b[38;5;28;01mreturn\u001b[39;00m pd\u001b[38;5;241m.\u001b[39mDataFrame(\n\u001b[1;32m    136\u001b[0m     isotope_number_density_array, index\u001b[38;5;241m=\u001b[39misotope_abundance\u001b[38;5;241m.\u001b[39mindex\n\u001b[1;32m    137\u001b[0m )\n",
      "\u001b[0;31mAttributeError\u001b[0m: 'NoneType' object has no attribute 'to_numpy'"
     ]
    }
   ],
   "source": [
    "#Create BasePlasma Object\n",
    "plasma = BasePlasma(\n",
    "        plasma_properties=input,\n",
    "        density = model.density,\n",
    "        abundance = model.abundance,\n",
    "        isotope_abundance = model.raw_isotope_abundance,\n",
    "        atomic_data = atomic_data\n",
    "    )\n",
    "    "
   ]
  },
  {
   "cell_type": "markdown",
   "id": "f89f3f38",
   "metadata": {},
   "source": [
    "The error above arises because **isotope_properties** in ```PlasmaPropertyCollection``` has no data for calculation, as there is no isotope-nuclide in **config.model.abundances**."
   ]
  },
  {
   "cell_type": "code",
   "execution_count": 7,
   "id": "f8f3ec6c",
   "metadata": {
    "scrolled": true
   },
   "outputs": [
    {
     "data": {
      "text/plain": [
       "{'type': 'uniform',\n",
       " 'O': 0.19,\n",
       " 'Mg': 0.03,\n",
       " 'Si': 0.52,\n",
       " 'S': 0.19,\n",
       " 'Ar': 0.04,\n",
       " 'Ca': 0.03}"
      ]
     },
     "execution_count": 7,
     "metadata": {},
     "output_type": "execute_result"
    }
   ],
   "source": [
    "config.model.abundances"
   ]
  },
  {
   "cell_type": "markdown",
   "id": "376a3fab",
   "metadata": {},
   "source": [
    "This can be be verified with the **raw_isotope_abundance** data in the model object, which comes out to be empty."
   ]
  },
  {
   "cell_type": "code",
   "execution_count": 8,
   "id": "c64a86a6",
   "metadata": {
    "scrolled": true
   },
   "outputs": [
    {
     "data": {
      "text/html": [
       "<div>\n",
       "<style scoped>\n",
       "    .dataframe tbody tr th:only-of-type {\n",
       "        vertical-align: middle;\n",
       "    }\n",
       "\n",
       "    .dataframe tbody tr th {\n",
       "        vertical-align: top;\n",
       "    }\n",
       "\n",
       "    .dataframe thead th {\n",
       "        text-align: right;\n",
       "    }\n",
       "</style>\n",
       "<table border=\"1\" class=\"dataframe\">\n",
       "  <thead>\n",
       "    <tr style=\"text-align: right;\">\n",
       "      <th></th>\n",
       "      <th></th>\n",
       "      <th>0</th>\n",
       "      <th>1</th>\n",
       "      <th>2</th>\n",
       "      <th>3</th>\n",
       "      <th>4</th>\n",
       "      <th>5</th>\n",
       "      <th>6</th>\n",
       "      <th>7</th>\n",
       "      <th>8</th>\n",
       "      <th>9</th>\n",
       "      <th>10</th>\n",
       "      <th>11</th>\n",
       "      <th>12</th>\n",
       "      <th>13</th>\n",
       "      <th>14</th>\n",
       "      <th>15</th>\n",
       "      <th>16</th>\n",
       "      <th>17</th>\n",
       "      <th>18</th>\n",
       "      <th>19</th>\n",
       "    </tr>\n",
       "    <tr>\n",
       "      <th>atomic_number</th>\n",
       "      <th>mass_number</th>\n",
       "      <th></th>\n",
       "      <th></th>\n",
       "      <th></th>\n",
       "      <th></th>\n",
       "      <th></th>\n",
       "      <th></th>\n",
       "      <th></th>\n",
       "      <th></th>\n",
       "      <th></th>\n",
       "      <th></th>\n",
       "      <th></th>\n",
       "      <th></th>\n",
       "      <th></th>\n",
       "      <th></th>\n",
       "      <th></th>\n",
       "      <th></th>\n",
       "      <th></th>\n",
       "      <th></th>\n",
       "      <th></th>\n",
       "      <th></th>\n",
       "    </tr>\n",
       "  </thead>\n",
       "  <tbody>\n",
       "  </tbody>\n",
       "</table>\n",
       "</div>"
      ],
      "text/plain": [
       "Empty IsotopeAbundances\n",
       "Columns: [0, 1, 2, 3, 4, 5, 6, 7, 8, 9, 10, 11, 12, 13, 14, 15, 16, 17, 18, 19]\n",
       "Index: []"
      ]
     },
     "execution_count": 8,
     "metadata": {},
     "output_type": "execute_result"
    }
   ],
   "source": [
    "model.raw_isotope_abundance"
   ]
  },
  {
   "cell_type": "markdown",
   "id": "3aa7a716",
   "metadata": {},
   "source": [
    "### Using TARDIS"
   ]
  },
  {
   "cell_type": "markdown",
   "id": "2480e806",
   "metadata": {},
   "source": [
    "We thus take inspiration from the TARDIS infrastructure and use ```assemble_plasma()``` to make our plasma object even when there's no isotope available."
   ]
  },
  {
   "cell_type": "code",
   "execution_count": 9,
   "id": "d4a7a2db",
   "metadata": {
    "scrolled": true
   },
   "outputs": [
    {
     "name": "stderr",
     "output_type": "stream",
     "text": [
      "/home/sherryff/MyProjects/tardis/tardis/plasma/properties/radiative_properties.py:93: RuntimeWarning: invalid value encountered in true_divide\n",
      "  (g_lower * n_upper) / (g_upper * n_lower)\n",
      "/home/sherryff/MyProjects/tardis/tardis/plasma/properties/radiative_properties.py:93: RuntimeWarning: invalid value encountered in true_divide\n",
      "  (g_lower * n_upper) / (g_upper * n_lower)\n"
     ]
    }
   ],
   "source": [
    "from tardis.plasma.standard_plasmas import assemble_plasma\n",
    "\n",
    "plasma = assemble_plasma(\n",
    "                config, model, atom_data = atomic_data\n",
    "            )"
   ]
  },
  {
   "cell_type": "code",
   "execution_count": 10,
   "id": "2110b58a",
   "metadata": {},
   "outputs": [],
   "source": [
    "#Setting up number of decays requested\n",
    "num_decays = config.montecarlo.no_of_packets"
   ]
  },
  {
   "cell_type": "code",
   "execution_count": 12,
   "id": "058aa658",
   "metadata": {},
   "outputs": [
    {
     "ename": "AttributeError",
     "evalue": "'BasePlasma' object has no attribute 'isotope_number_density'",
     "output_type": "error",
     "traceback": [
      "\u001b[0;31m---------------------------------------------------------------------------\u001b[0m",
      "\u001b[0;31mAttributeError\u001b[0m                            Traceback (most recent call last)",
      "Cell \u001b[0;32mIn[12], line 8\u001b[0m\n\u001b[1;32m      1\u001b[0m (\n\u001b[1;32m      2\u001b[0m     energy_df,\n\u001b[1;32m      3\u001b[0m     energy_plot_df,\n\u001b[1;32m      4\u001b[0m     escape_energy,\n\u001b[1;32m      5\u001b[0m     decayed_packet_count,\n\u001b[1;32m      6\u001b[0m     energy_plot_positrons,\n\u001b[1;32m      7\u001b[0m     estimated_deposition\n\u001b[0;32m----> 8\u001b[0m ) \u001b[38;5;241m=\u001b[39m \u001b[43mmain_gamma_ray_loop\u001b[49m\u001b[43m(\u001b[49m\n\u001b[1;32m      9\u001b[0m \u001b[43m    \u001b[49m\u001b[43mnum_decays\u001b[49m\u001b[43m,\u001b[49m\n\u001b[1;32m     10\u001b[0m \u001b[43m    \u001b[49m\u001b[43mmodel\u001b[49m\u001b[43m,\u001b[49m\n\u001b[1;32m     11\u001b[0m \u001b[43m    \u001b[49m\u001b[43mplasma\u001b[49m\n\u001b[1;32m     12\u001b[0m \u001b[43m)\u001b[49m\n",
      "File \u001b[0;32m~/MyProjects/tardis/tardis/energy_input/indivisible_packets.py:535\u001b[0m, in \u001b[0;36mmain_gamma_ray_loop\u001b[0;34m(num_decays, model, plasma, time_steps, time_end, grey_opacity, spectrum_bins, time_space, photoabsorption_opacity, pair_creation_opacity, seed, path_to_decay_data, positronium_fraction)\u001b[0m\n\u001b[1;32m    530\u001b[0m effective_time_array \u001b[38;5;241m=\u001b[39m np\u001b[38;5;241m.\u001b[39marray(\n\u001b[1;32m    531\u001b[0m     [np\u001b[38;5;241m.\u001b[39msqrt(times[i] \u001b[38;5;241m*\u001b[39m times[i \u001b[38;5;241m+\u001b[39m \u001b[38;5;241m1\u001b[39m]) \u001b[38;5;28;01mfor\u001b[39;00m i \u001b[38;5;129;01min\u001b[39;00m \u001b[38;5;28mrange\u001b[39m(time_steps)]\n\u001b[1;32m    532\u001b[0m )\n\u001b[1;32m    534\u001b[0m \u001b[38;5;66;03m# Use isotopic number density\u001b[39;00m\n\u001b[0;32m--> 535\u001b[0m \u001b[38;5;28;01mfor\u001b[39;00m atom_number \u001b[38;5;129;01min\u001b[39;00m \u001b[43mplasma\u001b[49m\u001b[38;5;241;43m.\u001b[39;49m\u001b[43misotope_number_density\u001b[49m\u001b[38;5;241m.\u001b[39mindex\u001b[38;5;241m.\u001b[39mget_level_values(\u001b[38;5;241m0\u001b[39m):\n\u001b[1;32m    536\u001b[0m     plasma\u001b[38;5;241m.\u001b[39mnumber_density\u001b[38;5;241m.\u001b[39mloc[\n\u001b[1;32m    537\u001b[0m         atom_number\n\u001b[1;32m    538\u001b[0m     ] \u001b[38;5;241m=\u001b[39m plasma\u001b[38;5;241m.\u001b[39misotope_number_density\u001b[38;5;241m.\u001b[39mloc[atom_number]\u001b[38;5;241m.\u001b[39mvalues\n\u001b[1;32m    540\u001b[0m \u001b[38;5;66;03m# Calculate electron number density\u001b[39;00m\n",
      "File \u001b[0;32m~/MyProjects/tardis/tardis/plasma/base.py:34\u001b[0m, in \u001b[0;36mBasePlasma.__getattr__\u001b[0;34m(self, item)\u001b[0m\n\u001b[1;32m     32\u001b[0m     \u001b[38;5;28;01mreturn\u001b[39;00m \u001b[38;5;28mself\u001b[39m\u001b[38;5;241m.\u001b[39mget_value(item)\n\u001b[1;32m     33\u001b[0m \u001b[38;5;28;01melse\u001b[39;00m:\n\u001b[0;32m---> 34\u001b[0m     \u001b[38;5;28;43msuper\u001b[39;49m\u001b[43m(\u001b[49m\u001b[43mBasePlasma\u001b[49m\u001b[43m,\u001b[49m\u001b[43m \u001b[49m\u001b[38;5;28;43mself\u001b[39;49m\u001b[43m)\u001b[49m\u001b[38;5;241;43m.\u001b[39;49m\u001b[38;5;21;43m__getattribute__\u001b[39;49m\u001b[43m(\u001b[49m\u001b[43mitem\u001b[49m\u001b[43m)\u001b[49m\n",
      "\u001b[0;31mAttributeError\u001b[0m: 'BasePlasma' object has no attribute 'isotope_number_density'"
     ]
    }
   ],
   "source": [
    "(\n",
    "    energy_df,\n",
    "    energy_plot_df,\n",
    "    escape_energy,\n",
    "    decayed_packet_count,\n",
    "    energy_plot_positrons,\n",
    "    estimated_deposition\n",
    ") = main_gamma_ray_loop(\n",
    "    num_decays,\n",
    "    model,\n",
    "    plasma\n",
    ")"
   ]
  },
  {
   "cell_type": "markdown",
   "id": "dd18f662",
   "metadata": {},
   "source": [
    "Evidently, the ***Gamma-Ray-Transport Code*** ALWAYS requires data on isotopes in the model."
   ]
  }
 ],
 "metadata": {
  "kernelspec": {
   "display_name": "Python 3 (ipykernel)",
   "language": "python",
   "name": "python3"
  },
  "language_info": {
   "codemirror_mode": {
    "name": "ipython",
    "version": 3
   },
   "file_extension": ".py",
   "mimetype": "text/x-python",
   "name": "python",
   "nbconvert_exporter": "python",
   "pygments_lexer": "ipython3",
   "version": "3.8.16"
  }
 },
 "nbformat": 4,
 "nbformat_minor": 5
}
